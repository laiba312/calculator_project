{
  "nbformat": 4,
  "nbformat_minor": 0,
  "metadata": {
    "colab": {
      "provenance": [],
      "authorship_tag": "ABX9TyNSUOtHElzNoE/bJhyw3Icd",
      "include_colab_link": true
    },
    "kernelspec": {
      "name": "python3",
      "display_name": "Python 3"
    },
    "language_info": {
      "name": "python"
    }
  },
  "cells": [
    {
      "cell_type": "markdown",
      "metadata": {
        "id": "view-in-github",
        "colab_type": "text"
      },
      "source": [
        "<a href=\"https://colab.research.google.com/github/laiba312/calculator_project/blob/main/Copy_of_librarymanagment.ipynb\" target=\"_parent\"><img src=\"https://colab.research.google.com/assets/colab-badge.svg\" alt=\"Open In Colab\"/></a>"
      ]
    },
    {
      "cell_type": "code",
      "source": [
        "!pip install -U kaleido"
      ],
      "metadata": {
        "colab": {
          "base_uri": "https://localhost:8080/"
        },
        "id": "EYF8TdkfZYUs",
        "outputId": "a9995b46-b97e-4de7-b583-d7d19888dba8"
      },
      "execution_count": null,
      "outputs": [
        {
          "output_type": "stream",
          "name": "stdout",
          "text": [
            "Collecting kaleido\n",
            "  Downloading kaleido-0.2.1-py2.py3-none-manylinux1_x86_64.whl.metadata (15 kB)\n",
            "Downloading kaleido-0.2.1-py2.py3-none-manylinux1_x86_64.whl (79.9 MB)\n",
            "\u001b[2K   \u001b[90m━━━━━━━━━━━━━━━━━━━━━━━━━━━━━━━━━━━━━━━━\u001b[0m \u001b[32m79.9/79.9 MB\u001b[0m \u001b[31m6.0 MB/s\u001b[0m eta \u001b[36m0:00:00\u001b[0m\n",
            "\u001b[?25hInstalling collected packages: kaleido\n",
            "Successfully installed kaleido-0.2.1\n"
          ]
        }
      ]
    },
    {
      "cell_type": "markdown",
      "source": [
        "##user class"
      ],
      "metadata": {
        "id": "iC-jMlekuqoS"
      }
    },
    {
      "cell_type": "code",
      "execution_count": 6,
      "metadata": {
        "id": "CjZADuVxuhQM"
      },
      "outputs": [],
      "source": [
        "import os\n",
        "\n",
        "class User:\n",
        "    def __init__(self, user_id: int, name: str, email: str):\n",
        "        self.user_id = user_id\n",
        "        self.name = name\n",
        "        self.email = email\n",
        "\n",
        "    def display_user_info(self):\n",
        "        return f\"User ID: {self.user_id}, Name: {self.name}, Email: {self.email}\"\n"
      ]
    },
    {
      "cell_type": "markdown",
      "source": [
        "##Creating the Book Class"
      ],
      "metadata": {
        "id": "JBOktIdGva_f"
      }
    },
    {
      "cell_type": "code",
      "source": [
        "class Book:\n",
        "    def __init__(self, book_id: int, title: str, author: str):\n",
        "        self.book_id = book_id\n",
        "        self.title = title\n",
        "        self.author = author\n",
        "        self.is_available = True  # Book availability\n",
        "\n",
        "    def display_book_info(self):\n",
        "        status = \"Available\" if self.is_available else \"Not Available\"\n",
        "        return f\"ID: {self.book_id}, Title: {self.title}, Author: {self.author}, Status: {status}\"\n"
      ],
      "metadata": {
        "id": "EYYU3S1Hvdfl"
      },
      "execution_count": 7,
      "outputs": []
    },
    {
      "cell_type": "markdown",
      "source": [
        "##Inheritance - Creating Librarian and Member"
      ],
      "metadata": {
        "id": "gRZmg71Zu_VH"
      }
    },
    {
      "cell_type": "code",
      "source": [
        "class Librarian(User):\n",
        "    def __init__(self, user_id: int, name: str, email: str):\n",
        "        super().__init__(user_id, name, email)\n",
        "\n",
        "class Member(User):\n",
        "    def __init__(self, user_id: int, name: str, email: str):\n",
        "        super().__init__(user_id, name, email)\n",
        "        self.borrowed_books = []  # List to store borrowed books\n",
        "\n",
        "    def borrow_book(self, book: Book):\n",
        "        if book.is_available:\n",
        "            self.borrowed_books.append(book)\n",
        "            book.is_available = False\n",
        "            print(f\"{self.name} borrowed '{book.title}'\")\n",
        "        else:\n",
        "            print(f\"'{book.title}' is not available.\")\n",
        "\n",
        "    def return_book(self, book: Book):\n",
        "        if book in self.borrowed_books:\n",
        "            self.borrowed_books.remove(book)\n",
        "            book.is_available = True\n",
        "            print(f\"{self.name} returned '{book.title}'\")\n",
        "        else:\n",
        "            print(f\"{self.name} doesn't have '{book.title}'\")"
      ],
      "metadata": {
        "id": "Od5azEUKuymq"
      },
      "execution_count": 8,
      "outputs": []
    },
    {
      "cell_type": "markdown",
      "source": [],
      "metadata": {
        "id": "j9LzuJuexGgp"
      }
    },
    {
      "cell_type": "markdown",
      "source": [
        "##Step 5: LibraryManager for CRUD Operations\n"
      ],
      "metadata": {
        "id": "NQUGVBpUvwot"
      }
    },
    {
      "cell_type": "code",
      "source": [
        "class LibraryManager:\n",
        "    def __init__(self):\n",
        "        self.books = []  # List to store books\n",
        "        self.users = []  # List to store users\n",
        "\n",
        "    def add_book(self, book: Book):\n",
        "        self.books.append(book)\n",
        "        print(f\"Book '{book.title}' added to the library.\")\n",
        "\n",
        "    def display_books(self):\n",
        "        for book in self.books:\n",
        "            print(book.display_book_info())\n",
        "    def register_user(self, user: User):\n",
        "        self.users.append(user)\n",
        "        print(f\"User '{user.name}' registered.\")\n",
        "\n",
        "    def display_users(self):\n",
        "        for user in self.users:\n",
        "            print(user.display_user_info())\n",
        "\n",
        "    def save_data(self):\n",
        "        try:\n",
        "            with open(\"books.txt\", \"w\") as f_books:\n",
        "                for book in self.books:\n",
        "                    f_books.write(f\"{book.book_id},{book.title},{book.author},{int(book.is_available)}\\n\")\n",
        "\n",
        "            with open(\"users.txt\", \"w\") as f_users:\n",
        "                for user in self.users:\n",
        "                    f_users.write(f\"{user.user_id},{user.name},{user.email}\\n\")\n",
        "            print(\"Data saved to files.\")\n",
        "        except IOError as e:\n",
        "            print(f\"Error saving data: {e}\")\n",
        "\n",
        "    def load_data(self):\n",
        "        if not os.path.exists(\"books.txt\") or not os.path.exists(\"users.txt\"):\n",
        "            print(\"Data files not found. Starting fresh.\")\n",
        "            return\n",
        "\n",
        "        try:\n",
        "            with open(\"books.txt\", \"r\") as f_books:\n",
        "                for line in f_books:\n",
        "                    book_id, title, author, is_available = line.strip().split(\",\")\n",
        "                    book = Book(int(book_id), title, author)\n",
        "                    book.is_available = bool(int(is_available))\n",
        "                    self.books.append(book)\n",
        "\n",
        "            with open(\"users.txt\", \"r\") as f_users:\n",
        "                for line in f_users:\n",
        "                    user_id, name, email = line.strip().split(\",\")\n",
        "                    user = User(int(user_id), name, email)\n",
        "                    self.users.append(user)\n",
        "            print(\"Data loaded from files.\")\n",
        "        except IOError as e:\n",
        "            print(f\"Error loading data: {e}\")\n"
      ],
      "metadata": {
        "id": "rCXihhNkv23h"
      },
      "execution_count": 9,
      "outputs": []
    },
    {
      "cell_type": "markdown",
      "source": [
        "##Step 9: Testing and Using the System\n"
      ],
      "metadata": {
        "id": "SnTykDPBBpl-"
      }
    },
    {
      "cell_type": "code",
      "source": [
        "# Initialize LibraryManager\n",
        "library_manager = LibraryManager()\n",
        "\n",
        "# Add a new book\n",
        "book1 = Book(1, \"The Great Gatsby\", \"F. Scott Fitzgerald\")\n",
        "library_manager.add_book(book1)\n",
        "\n",
        "# Register a member\n",
        "member1 = Member(1, \"Aroosa\", \"aroosa@example.com\")\n",
        "library_manager.register_user(member1)\n",
        "\n",
        "# Borrow a book\n",
        "member1.borrow_book(book1)\n",
        "\n",
        "# Return a book\n",
        "member1.return_book(book1)\n",
        "\n",
        "# Save data\n",
        "library_manager.save_data()\n",
        "\n",
        "# Load data\n",
        "library_manager.load_data()\n",
        "\n",
        "# Display books and users\n",
        "library_manager.display_books()\n",
        "library_manager.display_users()\n"
      ],
      "metadata": {
        "colab": {
          "base_uri": "https://localhost:8080/"
        },
        "id": "f_Lx4Do-BlC2",
        "outputId": "568c269e-135c-4ba7-8eeb-1fe2994a9798"
      },
      "execution_count": 10,
      "outputs": [
        {
          "output_type": "stream",
          "name": "stdout",
          "text": [
            "Book 'The Great Gatsby' added to the library.\n",
            "User 'Aroosa' registered.\n",
            "Aroosa borrowed 'The Great Gatsby'\n",
            "Aroosa returned 'The Great Gatsby'\n",
            "Data saved to files.\n",
            "Data loaded from files.\n",
            "ID: 1, Title: The Great Gatsby, Author: F. Scott Fitzgerald, Status: Available\n",
            "ID: 1, Title: The Great Gatsby, Author: F. Scott Fitzgerald, Status: Available\n",
            "User ID: 1, Name: Aroosa, Email: aroosa@example.com\n",
            "User ID: 1, Name: Aroosa, Email: aroosa@example.com\n"
          ]
        }
      ]
    }
  ]
}